{
 "cells": [
  {
   "cell_type": "markdown",
   "id": "bf1bfc0d",
   "metadata": {},
   "source": [
    "#Entrega 1 Proyecto\n",
    "\n",
    "## Para la primer entrega del micro-proyecto se tendrá en cuenta las siguientes pautas.\n",
    "\n",
    "1. Problema que abordarán y su contexto\n",
    "2. Pregunta de negocio y alcance de proyecto\n",
    "3. Conjunto de datos a emplear\n",
    "4. Repositorio Git en uso para el c´dogio\n",
    "5. Repositorio DVC en uso para los datos\n",
    "6. Exploración de los datos\n",
    "7. Maqueta del prototipo\n",
    "8. Reporte de trabajo en equipo"
   ]
  },
  {
   "cell_type": "markdown",
   "id": "24856909",
   "metadata": {},
   "source": [
    "Importación de librerías necesarias"
   ]
  },
  {
   "cell_type": "code",
   "execution_count": null,
   "id": "7065d3bc",
   "metadata": {},
   "outputs": [],
   "source": [
    "import warnings\n",
    "warnings.filterwarnings('ignore')\n",
    "\n",
    "import numpy as np\n",
    "import pandas as pd\n",
    "import matplotlib\n",
    "matplotlib.use('Agg')  # set Agg backend for matplotlib\n",
    "import matplotlib.pyplot as plt\n",
    "%matplotlib inline\n",
    "\n",
    "import seaborn as sns\n",
    "\n",
    "# For model building\n",
    "from sklearn.model_selection import train_test_split\n",
    "from sklearn.ensemble import RandomForestRegressor\n",
    "from sklearn.metrics import mean_squared_error, r2_score\n",
    "from sklearn.inspection import permutation_importance"
   ]
  },
  {
   "cell_type": "code",
   "execution_count": null,
   "id": "022b582b",
   "metadata": {
    "vscode": {
     "languageId": "plaintext"
    }
   },
   "outputs": [],
   "source": []
  }
 ],
 "metadata": {
  "language_info": {
   "name": "python"
  }
 },
 "nbformat": 4,
 "nbformat_minor": 5
}
